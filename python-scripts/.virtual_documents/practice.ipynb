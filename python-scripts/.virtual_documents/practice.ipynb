


import os
import subprocess
import sys





def create_pyprland_systemd_service():
    """
    Creates a systemd user service file for pyprland,
    enables it, and starts it.
    Uses colored Unicode output for better user feedback.
    Assumes 'pyprland' executable is in the user's PATH.
    """
    COLOR_GREEN = "\033[92m"
    COLOR_YELLOW = "\033[93m"
    COLOR_RED = "\033[91m"
    COLOR_RESET = "\033[0m"
    
    service_content = f"""
[Unit]
Description=Pyprland - Hyprland Utility
Documentation=https://github.com/hyprland-community/pyprland
After=graphical-session.target hyprland.target
PartOf=graphical-session.target hyprland.target

[Service]
Type=simple
ExecStart=pypr
Restart=on-failure
RestartSec=5

# Security Enhancements for a secure user service
# For user services, ProtectHome=true allows the service's own user to write to their home directory.
# This is crucial for applications that need to write configuration or logs to ~/.config or ~/.local/share.
PrivateTmp=true               # Isolate temporary directories for the service
ProtectSystem=full            # Make /usr, /boot, /etc read-only for the service
ProtectHome=true              # Make user's home directory read-only for others, but writable for the service's user
NoNewPrivileges=true          # Prevent the service from gaining new privileges
RestrictRealtime=true         # Prevent real-time scheduling
SystemCallFilter=@system-service # Restrict system calls to a safe set for general system services
CapabilityBoundingSet=        # Remove all capabilities (e.g., CAP_NET_RAW)
AmbientCapabilities=          # No ambient capabilities
MemoryDenyWriteExecute=true   # Prevent writing to and executing from memory
RestrictSUIDSGID=true         # Prevent SUID/SGID bits from being used
LockPersonality=true          # Prevent personality changes
RemoveIPC=true                # Remove IPC objects when the service stops

[Install]
WantedBy=graphical-session.target hyprland.target
"""
    home_dir = os.path.expanduser("~")
    service_dir = os.path.join(home_dr, ".config", "systemd", "user")
    service_file_path = os.path.join(service_dir, "pypland.service")
    






COLOR_GREEN = "\033[92m"
COLOR_YELLOW = "\033[93m"
COLOR_RED = "\033[91m"
COLOR_RESET = "\033[0m"


home_dir = os.path.expanduser("~")
service_dir = os.path.join(home_dir, ".config", "systemd", "user")
service_file_path = os.path.join(service_dir, "pyprland.service")
home_dir


print(f")



