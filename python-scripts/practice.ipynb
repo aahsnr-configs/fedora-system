{
 "cells": [
  {
   "cell_type": "markdown",
   "id": "7aa20730-85ac-4db7-b902-7696172d786f",
   "metadata": {},
   "source": [
    "* `import os`: This module provides a way of using operating system dependent functionality, such as interacting with the file system (e.g., creating directories, joining paths, expanding user home directory).\n",
    "* `import subprocess`: This module allows you to spawn new processes, connect to their input/output/error pipes, and obtain their return codes. It's used here to run `systemctl` commands.\n",
    "* `import sys`: This module provides access to system-specific parameters and functions, such as `sys.stderr` for printing error messages to the standard error stream."
   ]
  },
  {
   "cell_type": "code",
   "execution_count": 3,
   "id": "17cad074-3724-49f6-a4e0-0653849ea6ff",
   "metadata": {},
   "outputs": [],
   "source": [
    "import os\n",
    "import subprocess\n",
    "import sys"
   ]
  },
  {
   "cell_type": "markdown",
   "id": "9b8968de-7c0b-4b64-bc7f-19127e195be6",
   "metadata": {},
   "source": [
    "* `def create_pyprland_systemd_service():`: This line defines a function named `create_pyprland_systemd_service`. The indented lines that follow belong to this function.\n",
    "* `\"\"\"Docstring\"\"\"`: This is a multi-line string called a \"docstring.\" It provides a brief explanation of what the function does, its purpose, and any assumptions (like `pyprland` being in `PATH`). It's good practice for documenting code."
   ]
  },
  {
   "cell_type": "code",
   "execution_count": 4,
   "id": "353d8e3b-7113-4768-b708-9c603a6a9292",
   "metadata": {},
   "outputs": [],
   "source": [
    "def create_pyprland_systemd_service():\n",
    "    \"\"\"\n",
    "    Creates a systemd user service file for pyprland,\n",
    "    enables it, and starts it.\n",
    "    Uses colored Unicode output for better user feedback.\n",
    "    Assumes 'pyprland' executable is in the user's PATH.\n",
    "    \"\"\"\n",
    "    COLOR_GREEN = \"\\033[92m\"\n",
    "    COLOR_YELLOW = \"\\033[93m\"\n",
    "    COLOR_RED = \"\\033[91m\"\n",
    "    COLOR_RESET = \"\\033[0m\"\n",
    "    \n",
    "    service_content = f\"\"\"\n",
    "[Unit]\n",
    "Description=Pyprland - Hyprland Utility\n",
    "Documentation=https://github.com/hyprland-community/pyprland\n",
    "After=graphical-session.target hyprland.target\n",
    "PartOf=graphical-session.target hyprland.target\n",
    "\n",
    "[Service]\n",
    "Type=simple\n",
    "ExecStart=pypr\n",
    "Restart=on-failure\n",
    "RestartSec=5\n",
    "\n",
    "# Security Enhancements for a secure user service\n",
    "# For user services, ProtectHome=true allows the service's own user to write to their home directory.\n",
    "# This is crucial for applications that need to write configuration or logs to ~/.config or ~/.local/share.\n",
    "PrivateTmp=true               # Isolate temporary directories for the service\n",
    "ProtectSystem=full            # Make /usr, /boot, /etc read-only for the service\n",
    "ProtectHome=true              # Make user's home directory read-only for others, but writable for the service's user\n",
    "NoNewPrivileges=true          # Prevent the service from gaining new privileges\n",
    "RestrictRealtime=true         # Prevent real-time scheduling\n",
    "SystemCallFilter=@system-service # Restrict system calls to a safe set for general system services\n",
    "CapabilityBoundingSet=        # Remove all capabilities (e.g., CAP_NET_RAW)\n",
    "AmbientCapabilities=          # No ambient capabilities\n",
    "MemoryDenyWriteExecute=true   # Prevent writing to and executing from memory\n",
    "RestrictSUIDSGID=true         # Prevent SUID/SGID bits from being used\n",
    "LockPersonality=true          # Prevent personality changes\n",
    "RemoveIPC=true                # Remove IPC objects when the service stops\n",
    "\n",
    "[Install]\n",
    "WantedBy=graphical-session.target hyprland.target\n",
    "\"\"\"\n",
    "    home_dir = os.path.expanduser(\"~\")\n",
    "    service_dir = os.path.join(home_dr, \".config\", \"systemd\", \"user\")\n",
    "    service_file_path = os.path.join(service_dir, \"pypland.service\")\n",
    "    \n"
   ]
  },
  {
   "cell_type": "markdown",
   "id": "56467c91-d39b-4fd1-bdeb-f31915651b2e",
   "metadata": {},
   "source": [
    "* `home_dir = os.path.expanduser(\"~\")`: This line uses `os.path.expanduser(\"~\")` to get the current user's home directory path (e.g., `/home/yourusername`). This ensures the script works correctly regardless of the user executing it. The result is stored in the `home_dir` variable.\n",
    "  \n",
    "* `service_dir = os.path.join(home_dir, \".config\", \"systemd\", \"user\")`: This line constructs the full path to the directory where user `systemd` service files are typically stored (`~/.config/systemd/user`). `os.path.join()` is used instead of string concatenation to ensure proper path separators (`/` or `\\`) are used for the operating system.\n",
    "\n",
    "\n",
    "* `service_file_path = os.path.join(service_dir, \"pyprland.service\")`: This line constructs the full path, including the filename, for the new `systemd` service file (`~/.config/systemd/user/pyprland.service`). "
   ]
  },
  {
   "cell_type": "code",
   "execution_count": 5,
   "id": "9af4ecd1-29b7-487a-8e74-57723cbd628c",
   "metadata": {},
   "outputs": [],
   "source": [
    "COLOR_GREEN = \"\\033[92m\"\n",
    "COLOR_YELLOW = \"\\033[93m\"\n",
    "COLOR_RED = \"\\033[91m\"\n",
    "COLOR_RESET = \"\\033[0m\""
   ]
  },
  {
   "cell_type": "code",
   "execution_count": 6,
   "id": "0dfc9b49-2740-448f-8e8e-28b34f102cf2",
   "metadata": {},
   "outputs": [
    {
     "data": {
      "text/plain": [
       "'/home/ahsan'"
      ]
     },
     "execution_count": 6,
     "metadata": {},
     "output_type": "execute_result"
    }
   ],
   "source": [
    "home_dir = os.path.expanduser(\"~\")\n",
    "service_dir = os.path.join(home_dir, \".config\", \"systemd\", \"user\")\n",
    "service_file_path = os.path.join(service_dir, \"pyprland.service\")\n",
    "home_dir"
   ]
  },
  {
   "cell_type": "code",
   "execution_count": 8,
   "id": "ad5a1c3a-45a0-4fcb-a156-5aa98e5cb642",
   "metadata": {},
   "outputs": [
    {
     "name": "stdout",
     "output_type": "stream",
     "text": [
      "\u001b[93mAttempting to creat systemd user file for Pyprland...\u001b[0m\n"
     ]
    }
   ],
   "source": [
    "print(f\"{COLOR_YELLOW}Attempting to creat systemd user file for Pyprland...{COLOR_RESET}\")\n"
   ]
  },
  {
   "cell_type": "code",
   "execution_count": null,
   "id": "ec9cd3a4-70c6-47c4-b6a2-1137a306ab23",
   "metadata": {},
   "outputs": [],
   "source": []
  }
 ],
 "metadata": {
  "kernelspec": {
   "display_name": "practice",
   "language": "python",
   "name": "practice"
  },
  "language_info": {
   "codemirror_mode": {
    "name": "ipython",
    "version": 3
   },
   "file_extension": ".py",
   "mimetype": "text/x-python",
   "name": "python",
   "nbconvert_exporter": "python",
   "pygments_lexer": "ipython3",
   "version": "3.13.5"
  }
 },
 "nbformat": 4,
 "nbformat_minor": 5
}
